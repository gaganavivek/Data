{
 "cells": [
  {
   "cell_type": "code",
   "execution_count": null,
   "id": "0e109c7f",
   "metadata": {},
   "outputs": [],
   "source": [
    "!pip install imblearn"
   ]
  },
  {
   "cell_type": "code",
   "execution_count": null,
   "id": "2cec2cdb",
   "metadata": {},
   "outputs": [],
   "source": [
    "#importing libraries\n",
    "import pandas as pd \n",
    "from imblearn.over_sampling import SMOTE\n",
    "\n",
    "#reading dataset\n",
    "data = pd.read_csv('dataset.csv')\n",
    "print(data.shape)\n",
    "print(data.head())\n",
    "print()\n",
    "\n",
    "print(data.info())\n",
    "print()\n",
    "\n",
    "#data cleaning\n",
    "print(data.isnull().sum())\n",
    "print()\n",
    "\n",
    "#dependent and independent columns\n",
    "x = data.drop('back_order',axis=1)\n",
    "y = data['back_order']\n",
    "cols = x.columns\n",
    "#upsampling\n",
    "smote = SMOTE(random_state=12345)\n",
    "\n",
    "x_s, y_s = smote.fit_resample(x,y)\n",
    "\n",
    "print(y_s[:4])\n",
    "final = pd.DataFrame(x_s, columns=cols)\n",
    "final['back_order'] = y_s\n",
    "\n",
    "balance = pd.DataFrame(y_s ,  columns = ['back_order'])"
   ]
  },
  {
   "cell_type": "code",
   "execution_count": null,
   "id": "4d43a798",
   "metadata": {},
   "outputs": [],
   "source": [
    "balance.to_csv('output.csv',index=False)"
   ]
  }
 ],
 "metadata": {
  "kernelspec": {
   "display_name": "Python 3 (ipykernel)",
   "language": "python",
   "name": "python3"
  },
  "language_info": {
   "codemirror_mode": {
    "name": "ipython",
    "version": 3
   },
   "file_extension": ".py",
   "mimetype": "text/x-python",
   "name": "python",
   "nbconvert_exporter": "python",
   "pygments_lexer": "ipython3",
   "version": "3.10.9"
  }
 },
 "nbformat": 4,
 "nbformat_minor": 5
}

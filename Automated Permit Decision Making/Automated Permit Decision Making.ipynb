{
 "cells": [
  {
   "cell_type": "code",
   "execution_count": null,
   "id": "a6026c72",
   "metadata": {},
   "outputs": [],
   "source": [
    "import pandas as pd\n",
    "import numpy as np\n",
    "import warnings\n",
    "warnings.filterwarnings('ignore')\n",
    "pd.set_option('display.max_columns',65)\n",
    "\n",
    "train = pd.read_csv('train.csv')\n",
    "print(train.shape)\n",
    "\n",
    "test = pd.read_csv('test.csv')\n",
    "print(test.shape)"
   ]
  },
  {
   "cell_type": "code",
   "execution_count": null,
   "id": "d5bc9ab4",
   "metadata": {},
   "outputs": [],
   "source": [
    "x_train = train.drop('CurrentStatus',axis=1)\n",
    "y_train = train['CurrentStatus']\n",
    "\n",
    "x_train.drop('Id',axis=1,inplace=True)\n",
    "test.drop('Id',axis=1,inplace=True)"
   ]
  },
  {
   "cell_type": "code",
   "execution_count": null,
   "id": "210939fe",
   "metadata": {},
   "outputs": [],
   "source": [
    "cat_col = list(x_train.select_dtypes(include=['object','bool']).columns)\n",
    "print(len(cat_col))\n",
    "print(cat_col)\n",
    "\n",
    "from sklearn.preprocessing import LabelEncoder\n",
    "label = LabelEncoder()\n",
    "\n",
    "for i in cat_col:\n",
    "    x_train[i] = label.fit_transform(x_train[i])\n",
    "    test[i] = label.fit_transform(test[i])\n",
    "    \n",
    "# from imblearn.over_sampling import SMOTE\n",
    "# smote = SMOTE()\n",
    "# train_col = list(x_train.columns)\n",
    "# x_train, y_train = smote.fit_resample(x_train, y_train)\n",
    "\n",
    "# x_train = pd.DataFrame(x_train, columns=train_col).reset_index(drop=True)\n",
    "# y_train = pd.DataFrame(y_train, columns=['CurrentStatus']).reset_index(drop=True)\n",
    "\n",
    "from sklearn.preprocessing import StandardScaler\n",
    "scaler = StandardScaler()\n",
    "\n",
    "x_train = pd.DataFrame(scaler.fit_transform(x_train), columns=x_train.columns)\n",
    "test = pd.DataFrame(scaler.fit_transform(test), columns=test.columns)"
   ]
  },
  {
   "cell_type": "code",
   "execution_count": null,
   "id": "4b95a272",
   "metadata": {},
   "outputs": [],
   "source": [
    "from xgboost import XGBClassifier\n",
    "xgbc = XGBClassifier()\n",
    "\n",
    "xgbc.fit(x_train, y_train)\n",
    "\n",
    "pred_xgbc = xgbc.predict(test)\n",
    "print(pred_xgbc[:10])"
   ]
  },
  {
   "cell_type": "code",
   "execution_count": null,
   "id": "70b1776a",
   "metadata": {},
   "outputs": [],
   "source": [
    "pred = pd.DataFrame(pred_xgbc, columns=['CurrentStatus'])\n",
    "final = pd.read_csv('test.csv')\n",
    "final['CurrentStatus'] = pred\n",
    "final = final[['Id','CurrentStatus']]\n",
    "print(final.head(10))"
   ]
  },
  {
   "cell_type": "code",
   "execution_count": null,
   "id": "259bd5bf",
   "metadata": {},
   "outputs": [],
   "source": [
    "final.to_csv('output.csv',index=False)"
   ]
  }
 ],
 "metadata": {
  "kernelspec": {
   "display_name": "Python 3 (ipykernel)",
   "language": "python",
   "name": "python3"
  },
  "language_info": {
   "codemirror_mode": {
    "name": "ipython",
    "version": 3
   },
   "file_extension": ".py",
   "mimetype": "text/x-python",
   "name": "python",
   "nbconvert_exporter": "python",
   "pygments_lexer": "ipython3",
   "version": "3.10.9"
  }
 },
 "nbformat": 4,
 "nbformat_minor": 5
}

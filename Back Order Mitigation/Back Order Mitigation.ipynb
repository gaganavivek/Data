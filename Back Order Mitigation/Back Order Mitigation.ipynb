{
 "cells": [
  {
   "cell_type": "code",
   "execution_count": null,
   "id": "9cc2b331",
   "metadata": {},
   "outputs": [],
   "source": [
    "import pandas as pd \n",
    "import numpy as np \n",
    "import warnings\n",
    "warnings.filterwarnings('ignore')\n",
    "\n",
    "train = pd.read_csv('train.csv')\n",
    "test = pd.read_csv('test.csv')\n",
    "\n",
    "train.dropna(inplace=True)\n",
    "\n",
    "train.replace(['$','Null','#'],np.nan, inplace=True)\n",
    "train.dropna(inplace=True)\n",
    "\n",
    "train['national_inv'] = train['national_inv'].astype(float)\n",
    "train['in_transit_qty'] = train['in_transit_qty'].astype(float)\n",
    "\n",
    "test['national_inv'] = test['national_inv'].astype(float)\n",
    "test['in_transit_qty'] = test['in_transit_qty'].astype(float)\n",
    "\n",
    "cat_col_train = list(train.select_dtypes(include='object').columns)\n",
    "cat_col_test = list(test.select_dtypes(include='object').columns)\n",
    "\n",
    "from sklearn.preprocessing import LabelEncoder\n",
    "label = LabelEncoder()\n",
    "\n",
    "for i in cat_col_train:\n",
    "    train[i] = label.fit_transform(train[i])\n",
    "    \n",
    "for i in cat_col_test:\n",
    "    test[i] = label.fit_transform(test[i])\n",
    "    \n",
    "train.drop('sku',axis=1,inplace=True)\n",
    "test.drop('sku',axis=1,inplace=True)\n",
    "\n",
    "from sklearn.preprocessing import StandardScaler\n",
    "scaler = StandardScaler()\n",
    "\n",
    "x_train = train.drop('went_on_backorder',axis=1)\n",
    "y_train = train['went_on_backorder']\n",
    "\n",
    "x_train = pd.DataFrame(scaler.fit_transform(x_train), columns=x_train.columns)\n",
    "test = pd.DataFrame(scaler.fit_transform(test), columns=test.columns)\n",
    "\n",
    "y_train.reset_index(drop=True,inplace=True)\n",
    "\n",
    "from sklearn.ensemble import GradientBoostingClassifier\n",
    "\n",
    "gbc = GradientBoostingClassifier()\n",
    "\n",
    "gbc.fit(x_train,y_train)\n",
    "\n",
    "y_pred_gbc = gbc.predict(test)\n",
    "\n",
    "print('Train Accuracy: {}%'.format(round(gbc.score(x_train, y_train)*100,2)))\n",
    "\n",
    "predictions = []\n",
    "for i in y_pred_gbc:\n",
    "    if i == 0:\n",
    "        predictions.append('No')\n",
    "    else:\n",
    "        predictions.append('Yes')\n",
    "        \n",
    "print(predictions[:15])\n",
    "\n",
    "pred = pd.DataFrame(predictions ,  columns = ['went_on_backorder'])\n"
   ]
  },
  {
   "cell_type": "code",
   "execution_count": null,
   "id": "81d6b8fd",
   "metadata": {},
   "outputs": [],
   "source": [
    "sample_predictions = pd.read_csv('test.csv')\n",
    "sample_predictions['went_on_backorder'] = pred\n",
    "sample_predictions"
   ]
  },
  {
   "cell_type": "code",
   "execution_count": null,
   "id": "a721987f",
   "metadata": {},
   "outputs": [],
   "source": [
    "sample_predictions = sample_predictions[['sku','went_on_backorder']]\n",
    "sample_predictions"
   ]
  },
  {
   "cell_type": "code",
   "execution_count": null,
   "id": "1318759b",
   "metadata": {},
   "outputs": [],
   "source": [
    "sample_predictions.to_csv('output.csv',index=False)"
   ]
  }
 ],
 "metadata": {
  "kernelspec": {
   "display_name": "Python 3 (ipykernel)",
   "language": "python",
   "name": "python3"
  },
  "language_info": {
   "codemirror_mode": {
    "name": "ipython",
    "version": 3
   },
   "file_extension": ".py",
   "mimetype": "text/x-python",
   "name": "python",
   "nbconvert_exporter": "python",
   "pygments_lexer": "ipython3",
   "version": "3.10.9"
  }
 },
 "nbformat": 4,
 "nbformat_minor": 5
}
